{
  "nbformat": 4,
  "nbformat_minor": 0,
  "metadata": {
    "colab": {
      "name": "Untitled2.ipynb",
      "provenance": [],
      "include_colab_link": true
    },
    "kernelspec": {
      "name": "python3",
      "display_name": "Python 3"
    }
  },
  "cells": [
    {
      "cell_type": "markdown",
      "metadata": {
        "id": "view-in-github",
        "colab_type": "text"
      },
      "source": [
        "<a href=\"https://colab.research.google.com/github/mtofighi/MakerSpace/blob/master/Info.ipynb\" target=\"_parent\"><img src=\"https://colab.research.google.com/assets/colab-badge.svg\" alt=\"Open In Colab\"/></a>"
      ]
    },
    {
      "cell_type": "markdown",
      "metadata": {
        "id": "-zKIGG8r81v2",
        "colab_type": "text"
      },
      "source": [
        "# **Neill-Wycik Maker Space Operation Manual**\n",
        "\n",
        "> National Collision Database 1999 to 2017 <br>\n",
        "> Source: https://opendatatc.blob.core.windows.net/opendatatc/NCDB_1999_to_2017.csv\n",
        "\n",
        "> Let’s now take a look at our dataset attributes and understand their meaning and significance.\n",
        "\n",
        "| Data element \t| Type \t| Code  | Definition \t|\n",
        "|-----------------------\t|-----------------------\t|----------------------------\t|-----------------------------------------------------------------------------------------------------------------------------------------------------------------------------------------------------------------------------------------------------------------------------------------------\t|\n",
        "| C_YEAR \t| int64 \t| 19yy-20yy  | Year of the collision \t|\n",
        "| C_MNTH \t| int64 \t| 01-12, UU, XX |Month of the collision  \t|\n",
        "| C_WDAY | int64 | 1-7, U, X | Weekday of the collision  \t|\n",
        "| C_HOUR | int64 | 00-23, UU, XX  |Hour of the collision  \t|\n",
        "| C_SEV | category | 1,2, U, X |  The collision severity <br> 1: Collision producing at least one fatality <br> 2: Collision producing non-fatal injury) |\n",
        "| C_VEHS|int64 | 1-98,99, UU, XX | Number of vehicles involved in collision|\n",
        "| C_CONF| category |01-06 , 21-25 , 31-36 , 41 , QQ, UU, XX |  Collision configuration|\n",
        "| C_RCFG| category |01-12 , QQ, UU, XX |Roadway configuration|\n",
        "| C_WTHR | category| 1-7 , Q , U , X|Weather condition|\n",
        "| C_RSUR | category|1-9 , Q , U , X|Road surface|\n",
        "| C_RALN | category| 1-6 , Q , U , X|Road alignment|\n",
        "| C_TRAF | category| 01-18, UU, XX|Traffic control|\n",
        "| V_ID | int64 | 1-98,99, UU|Vehicle sequence number|\n",
        "| V_TYPE | category |00-23, NN, QQ, UU, XX|Vehicle type|\n",
        "| V_YEAR | int64 | 19yy-20yy , NNNN , UUUU , XXXX|Vehicle model year|\n",
        "| P_ID | int64 | 01 - 99 , NN , UU|Person sequence number|\n",
        "| P_SEX | category | F , M , N , U , X|Person sex|\n",
        "| P_AGE | int64 | 00 , 01 – 98 , 99 , NN , UU , XX|Person age|\n",
        "| P_PSN | category |11-13 , 21-23 , 31-33 , 96-99 , NN, QQ, UU, XX|Person position|\n",
        "| P_ISEV | category| 1-3 , N , U , X|Medical treatment required <br> 1: No Injury <br> 2: Injury  <br> 3: Fatality|\n",
        "| P_SAFE | category |01 , 02 , 09-13 , NN, QQ, UU, XX|Safety device used|\n",
        "| P_USER | category |1-5 , U|Road user class|\n",
        "| C_CASE|int64 |  a number, starting from 752 |seems to be the index of data|\n",
        "\n",
        "\n",
        "We have a total of 22 features and our objective is to predict the dependency of the sevirity of a collison (P_ISEV) to these features we will be building and interpreting a classification model."
      ]
    },
    {
      "cell_type": "markdown",
      "metadata": {
        "id": "KYUAgJknW15_",
        "colab_type": "text"
      },
      "source": [
        "## **1- Load Data**\n",
        "Select One of the methods based on the work progress:\n",
        "\n",
        "A- Data from Main Source [this URL](https://www.flashforge.com/consumer/detail/Creator%20Pro?id=4) <br>\n",
        "B- Full Data from Backup on My Ryerson Google Drive <br>\n",
        "C- Backup Data for Year 2017 in this Github Repository [this Link](https://github.com/mtofighi/RoadCollisions/blob/master/NCDB_2017.csv?raw=true) <br>\n",
        "D- Upload Data from Desktop to Drive (2017)  <br>\n",
        "E- Cleaned and Dropped Data  in this Github Repository [this Link](https://raw.githubusercontent.com/mtofighi/RoadCollisions/master/two_vehic_df.csv)"
      ]
    },
    {
      "cell_type": "markdown",
      "metadata": {
        "id": "zEjriNxRXqH7",
        "colab_type": "text"
      },
      "source": [
        "## **1- Overview**\n",
        "\n",
        "> The Neill-Wycik Makerspace is an engineering design space that allow members of the co-op to design and create their own projects that involl1e the use of electronics, computer aided design software (also known as CAD), and 3D printed ABS or PLA material. Due to the nature of the components inside the space, both in terms of cost and safety, it is necessary to lay out the ground rules for usage of the space to ensure. proper training of students who wish to use the space and minimize the risk of injuries and property damage as a result.\n",
        "\n",
        "> We support a maker culture where:\n",
        "\n",
        ">>* everyone shares responsibility for safety.\n",
        "* we help one another and are receptive to feedback.\n",
        "* we support one another.\n",
        "* innovation is encouraged.\n",
        "* positive experiences are created. <br>\n",
        "\n",
        "> This is a space to have FUN, LEARN, be PRODUCTIVE, and work SAFELY. Please adhere to posted safety and equipment guidelines, report damaged or unclean equipment, and ask questions."
      ]
    },
    {
      "cell_type": "markdown",
      "metadata": {
        "id": "WhUxiS07h-he",
        "colab_type": "text"
      },
      "source": [
        "## **1- Safety Guidelines**\n",
        "### **1-1- Report all Injuries/Incidents**\n",
        "*   Immediately report **ALL** accidents, injuries, or incidents to a Makerspace Technician.\n",
        "*   Immediately discontinue use of the tool(s) or equipment if it becomes unsafe, damaged, or is not working properly; notify a Makerspace Technician.\n",
        "\n",
        "### **1-2- Safe Conduct Agreement**\n",
        "* Use the space and equipment safely and leave the space and equipment in clean and working condition.\n",
        "* Work and behave in a way that protects your own safety and the safety of others.\n",
        "* Children under the age of 18 years must be accompanied and supervised by an adult.\n",
        "* Ask for help when you are uncertain how to use equipment.\n",
        "* Operation of the 3D Printers and Laser Machine is restricted to Makerspace Technicians.\n",
        "* Abide by RDC and government building, safety, and fire regulations and comply with the rules and regulations of the equipment, whether posted or otherwise imposed by RDC.\n",
        "\n",
        "### **1-3- Prepare**\n",
        "* Safety is your top priority when using the Makerspace. If you are not sure what to do, ask.\n",
        "* Be aware of locations of first aid, fire, and safety equipment.\n",
        "* Never use a tool unless you’ve been trained to use it safely.\n",
        "* Use a step stool to reach extension cords or tools which are out of reach. Do not climb on tables or chairs to reach for something.\n",
        "* Do not work when tired or in a hurry. \n",
        "* Do not cause a distraction, fool around, or startle anyone while either one of you is using a tool.\n",
        "*  Think through the entire job before starting. Prepare prints or drawings with all dimensions and specifications prior to submitting your job to a Makerspace Technician. Makerspace Technicians are happy to assist you if you get stuck.\n",
        "\n",
        "### **1-4- Use Protective Gear & Dress Right**\n",
        "* Do not wear loose-fitting clothing around moving or rotating machinery.\n",
        "* Remove ties, jewelry, lanyards, etc., especially around moving or rotating machinery.\n",
        "* Tie back long hair.\n",
        "* Wear suitable gloves when handling hot objects or sharp-edged items.\n",
        "\n",
        "### **1-5- Use Tools Correctly**\n",
        "* Use tools how they are designed to be used.\n",
        "* Never use a broken tool. Report any broken tools or machinery to a Makerspace Technician immediately.\n",
        "* Do not remove tools from the Makerspace.\n",
        "* Never walk away from a tool that is still on. \n",
        "* Never tamper with a tool’s safety features. Operate machinery according to recommended procedures and with safety guards in place, as applicable.\n",
        "\n",
        "## **1-6- Food and Drinks**\n",
        "> Covered beverages are allowed in the green and yellow zones. Unattended beverages may be discarded by staff. Clean up any spills immediately.\n",
        "Food is NOT permitted.\n",
        "\n",
        "## **1-7- Clean Up**\n",
        "* Clean up after yourself; leave the area clean and tidy.\n",
        "* Clean and return all tools to where you got them.\n",
        "* Shut off and unplug machines when cleaning. \n",
        "* Never use a rag near moving machinery. \n",
        "* Use a brush, hook, or a special tool to remove chips, shavings, etc., from the work area. Never use your hands. \n",
        "* Keep fingers clear of the point of operation of machines by using special tools or devices, such as push sticks, hooks, pliers, etc. \n",
        "* Keep the floor around machinery clean, dry, and free from trip hazards. \n",
        "* Clean up spills immediately and put a chair or cone over them if they are wet enough to cause someone to slip.\n",
        "\n",
        "## **1-8- First Aid Equipments**\n",
        "> There is a first aid equipment kit on the wall of the room.<br>\n",
        "![alt text](https://github.com/mtofighi/MakerSpace/blob/master/Sources/Images/Available%20First%20Aid%20Kit_Page_1.jpg?raw=true \"First Aid Station\")\n",
        "![alt text](https://github.com/mtofighi/MakerSpace/blob/master/Sources/Images/Available%20First%20Aid%20Kit_Page_2.jpg?raw=true \"First Aid Station\")\n"
      ]
    },
    {
      "cell_type": "markdown",
      "metadata": {
        "id": "THlU1TEsX_bu",
        "colab_type": "text"
      },
      "source": [
        "## **2- Training**\n",
        "\n",
        "> Before any member can utilize the space, there will be a requirement for them to undergo an open house session with either the Manager of the space or either of the Assistant Managers of the space. This training will include, but not be limited to: <br>\n",
        ">> a) The locations and proper usage of the Emergency Supplies (First Aid Kits and\n",
        "Eyewash Station) inside of the space <br>\n",
        "b) An overview of the procedural rules of the space (including occupancy limits for the space, cleaning requirements of the space, sign in procedures, guest policy, etc ... ) <br>\n",
        "c) Training on the usage of the various tools available inside of the space, particularly the soldering irons and 30 printer, and: <br>\n",
        "d) A practical test of said training in the form of a basic project (a working LED light switch for the soldering and printing an alphabet letter for the 3D printer)"
      ]
    },
    {
      "cell_type": "markdown",
      "metadata": {
        "id": "XPiQ0hm8aNMb",
        "colab_type": "text"
      },
      "source": [
        "## **3- Ground Rules for the Makerspace**\n",
        "\n",
        "> The ground rules for the Makerspace shall be as follows. Violation of any of the rules of the space will lead to loss of usage privileges:\n",
        ">> a) The occupancy limit of the Makerspace at any given time shall be llmited to **_6_** persons. <br>\n",
        "b) No untrained members or guests are allowed into the Makerspace under any\n",
        "circumstances. <br>\n",
        "c) No food or drink is allowed int the Makerspace under any circumstances. <br>\n",
        "d) All users of the space must both sign into the space when they enter and sign out of the space when they leave. <br>\n",
        "e) Removal of any electrical components from the space (ie: LEDs, perfboard, switches, etc.) must be recorded by the manager or an assistant manager of the space. <br>\n",
        "f) Removal of any other items from the space, including any type of solder, is\n",
        "prohibited. <br>\n",
        "g) Any and all damages or emergencies must immediately be reported to both security and the Facility Manager/Assistants. <br>"
      ]
    },
    {
      "cell_type": "markdown",
      "metadata": {
        "id": "_Sb8V6BlcO3c",
        "colab_type": "text"
      },
      "source": [
        "## **4- Project Storage**\n",
        "> Any projects being worked on by a member shall be allowed to be kept in the shortterm storage in the space for up to **_48_** hours without notifying a facility manager/assistant. Storage for up to ***30*** days for small projects will be available after notification of a manager/assistant. larger projects may be accommodated on a case by case basis, but the manager/assistant managers reserve the right to request removal of Projects which take up too much space on the grounds of safety for the members using the space."
      ]
    },
    {
      "cell_type": "markdown",
      "metadata": {
        "id": "gXcFs2bQc7QT",
        "colab_type": "text"
      },
      "source": [
        "## **5- Manager and Assistant Manager Responsibilities**\n",
        "\n",
        "For the purpose of operating the Makerspace, the duties of the manager are:\n",
        "> a) Update this manual on an as-needed basis (such as the introduction of new\n",
        "equipment, and other scenarios that may arise) <br>\n",
        "b) Ensure timing is scheduled each month for new training sessions for the space for members to use, and that adequate t iming is given for said members to sign up<br>\n",
        "c) Ensure that all receipts for purchases made for the makerspace are stored in the appropriate lockbox, and that these expenses are cat alogued on a per quarter basis for the purpose of SAC<br>\n",
        "d) Lead training sessions for the space when timing permits<br>\n",
        "e) Supervise the space whenever it is required and an assistant is unavailable\n",
        "Ensure the space is cleaned once every week, with increasing frequency in times of high traffic<br>\n",
        "f) Attend all relevant SAC meetings on the space<br>\n",
        "\n",
        "The duties of an assistant manager shall be:\n",
        "> a) Report all expenses for the space to the manager, and store the receipts in the lockbox inside of the Makerspace<br>\n",
        "b) Help supervise the space at the request of members using the space<br>\n",
        "c) Help the manager maintain cleanliness In the Makerspace<br>\n",
        "d) Help the manager with any reasonable requests regarding the promotion and\n",
        "upkeep of the space<br>"
      ]
    },
    {
      "cell_type": "markdown",
      "metadata": {
        "id": "cyzrK4aYE5jN",
        "colab_type": "text"
      },
      "source": [
        "## **6- Tools and Equipment**\n",
        "> The Neill-Wycik Makerspace has a variety of low-tech and high-tech tools and equipment.\n",
        "\n",
        "| Row | Tool \t| Brand | Manual |\n",
        "|-----|-------|-------|--------|\n",
        "| 1 | 3D Printer \t| [Flashforge Creator Pro](https://www.flashforge.com/consumer/detail/Creator%20Pro?id=4) | Year of the collision \t|\n",
        "| 2 | int64 \t| 01-12, UU, XX |Month of the collision  \t|\n",
        "| 3 | int64 | 1-7, U, X | Weekday of the collision  \t|\n",
        "| 4 | int64 | 00-23, UU, XX  |Hour of the collision  \t|\n",
        "| 5 | category | 1,2, U, X |  The collision severity <br> 1: Collision producing at least one fatality <br> 2: Collision producing non-fatal injury) |\n",
        "| 6 |int64 | 1-98,99, UU, XX | Number of vehicles involved in collision|\n",
        "| C_CONF| category |01-06 , 21-25 , 31-36 , 41 , QQ, UU, XX |  Collision configuration|\n",
        "| C_RCFG| category |01-12 , QQ, UU, XX |Roadway configuration|\n",
        "| C_WTHR | category| 1-7 , Q , U , X|Weather condition|\n",
        "| C_RSUR | category|1-9 , Q , U , X|Road surface|\n",
        "| C_RALN | category| 1-6 , Q , U , X|Road alignment|\n",
        "| C_TRAF | category| 01-18, UU, XX|Traffic control|\n",
        "| V_ID | int64 | 1-98,99, UU|Vehicle sequence number|\n",
        "| V_TYPE | category |00-23, NN, QQ, UU, XX|Vehicle type|\n",
        "| V_YEAR | int64 | 19yy-20yy , NNNN , UUUU , XXXX|Vehicle model year|\n",
        "| P_ID | int64 | 01 - 99 , NN , UU|Person sequence number|\n",
        "| P_SEX | category | F , M , N , U , X|Person sex|\n",
        "| P_AGE | int64 | 00 , 01 – 98 , 99 , NN , UU , XX|Person age|\n",
        "| P_PSN | category |11-13 , 21-23 , 31-33 , 96-99 , NN, QQ, UU, XX|Person position|\n",
        "| P_ISEV | category| 1-3 , N , U , X|Medical treatment required <br> 1: No Injury <br> 2: Injury  <br> 3: Fatality|\n",
        "| P_SAFE | category |01 , 02 , 09-13 , NN, QQ, UU, XX|Safety device used|\n",
        "| P_USER | category |1-5 , U|Road user class|\n",
        "| C_CASE|int64 |  a number, starting from 752 |seems to be the index of data|\n",
        "\n",
        "\n",
        "\n",
        "1- 3D Printer\n",
        "3D Scanner\n",
        "Laser Machine \n",
        "Sewing Machine \n",
        "Soldering Equipment,\n",
        "Electronics  Arduino, Raspberry Pi, LittleBits, Makey Makey, and Lego Kits.\n",
        "Video, Sound & Photography: Studio Equipment, Cameras & Accessories, and Multimedia workstations with a variety of software.\n",
        "Arts & Crafts: Button Maker, Cricut, and miscellaneous craft materials and supplies."
      ]
    },
    {
      "cell_type": "markdown",
      "metadata": {
        "id": "-Egex88fGHCZ",
        "colab_type": "text"
      },
      "source": [
        ""
      ]
    },
    {
      "cell_type": "markdown",
      "metadata": {
        "id": "-Gu0PK79eOYV",
        "colab_type": "text"
      },
      "source": [
        "## **6- Soldering Rules**\n",
        "\n",
        ">The followlng rules must be followed when using soldering equipment:\n",
        ">>a) Protedive eyewear and gloves must be worn at all times<br>\n",
        "b) The solderlng irons must be unplugged when not in use<br>\n",
        "c) If soldering iron is in use and need to be put down, it must be placed back into its holder<br>\n",
        "d) Cleaning sponge must be kept wet during use, and equipment should be cleaned\n",
        "before finishing<br>\n",
        "e) Any violation of these rules or horseplay with the equipment will result in\n",
        "Makerspace privileges being revoked<br>"
      ]
    },
    {
      "cell_type": "markdown",
      "metadata": {
        "id": "7CFFVNIMfpZk",
        "colab_type": "text"
      },
      "source": [
        "## **7- 3D Printing rules**\n",
        "\n",
        ">The following rules must be followed with respect to using the 30 printer.\n",
        ">>a) Before use, confirmation is needed that there is enough ABS or PLA to print the required part<br>\n",
        "b) All projects to be printed must receive approval before ***6 PM***<br>\n",
        "c) All usage of the 3D printer must be approved before printing is stared by a facility manager / assistant manager. Running the machine without such approval is prohibited<br>\n",
        "d) Any instance of smoke emitting from the machine must immediately be reported to both security and facility managementv"
      ]
    },
    {
      "cell_type": "markdown",
      "metadata": {
        "id": "uC0RxFiHglFW",
        "colab_type": "text"
      },
      "source": [
        ""
      ]
    }
  ]
}