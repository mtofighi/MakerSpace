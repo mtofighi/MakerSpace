{
  "nbformat": 4,
  "nbformat_minor": 0,
  "metadata": {
    "colab": {
      "name": "Untitled2.ipynb",
      "provenance": [],
      "include_colab_link": true
    },
    "kernelspec": {
      "name": "python3",
      "display_name": "Python 3"
    }
  },
  "cells": [
    {
      "cell_type": "markdown",
      "metadata": {
        "id": "view-in-github",
        "colab_type": "text"
      },
      "source": [
        "<a href=\"https://colab.research.google.com/github/mtofighi/MakerSpace/blob/master/Info.ipynb\" target=\"_parent\"><img src=\"https://colab.research.google.com/assets/colab-badge.svg\" alt=\"Open In Colab\"/></a>"
      ]
    },
    {
      "cell_type": "markdown",
      "metadata": {
        "id": "-zKIGG8r81v2",
        "colab_type": "text"
      },
      "source": [
        "# **Neill-Wycik Makerspace Operation Manual**\n",
        "___"
      ]
    },
    {
      "cell_type": "markdown",
      "metadata": {
        "id": "zEjriNxRXqH7",
        "colab_type": "text"
      },
      "source": [
        "## **1- Overview**\n",
        "\n",
        "> The Neill-Wycik Makerspace is an engineering design space that allow members of the co-op to design and create their own projects that invollve the use of electronics, computer aided design software (also known as CAD), and 3D printed ABS or PLA material. Due to the nature of the components inside the space, both in terms of cost and safety, it is necessary to lay out the ground rules for usage of the space to ensure. proper training of students who wish to use the space and minimize the risk of injuries and property damage as a result.\n",
        "\n",
        "> We support a maker culture where:\n",
        "\n",
        ">>* everyone shares responsibility for safety.\n",
        "* we help one another and are receptive to feedback.\n",
        "* we support one another.\n",
        "* innovation is encouraged.\n",
        "* positive experiences are created. <br>\n",
        "\n",
        "> This is a space to have FUN, LEARN, be PRODUCTIVE, and work SAFELY. Please adhere to posted safety and equipment guidelines, report damaged or unclean equipment, and ask questions.\n",
        "\n",
        "|  |  \t|\n",
        "|--|----|\n",
        "| [![IMAGE ALT TEXT HERE](https://github.com/mtofighi/MakerSpace/blob/master/Sources/Images/video-clip-icon.png?raw=true)](https://youtu.be/W2fKz_L2-v4) | ![alt text](https://github.com/mtofighi/MakerSpace/blob/master/Sources/Images/MakerSpace.jpg?raw=true\")|\n",
        "\n",
        "---\n"
      ]
    },
    {
      "cell_type": "markdown",
      "metadata": {
        "id": "WhUxiS07h-he",
        "colab_type": "text"
      },
      "source": [
        "## **1- Safety Guidelines**\n",
        "### **1-1- Report all Injuries/Incidents**\n",
        "*   Immediately report **ALL** accidents, injuries, or incidents to a Makerspace Manager or Assistant Manager.\n",
        "*   Immediately discontinue use of the tool(s) or equipment if it becomes unsafe, damaged, or is not working properly; notify a Makerspace Manager or Assistant Manager.\n",
        "\n",
        "### **1-2- Safe Conduct Agreement**\n",
        "* Use the space and equipment safely and leave the space and equipment in clean and working condition.\n",
        "* Work and behave in a way that protects your own safety and the safety of others.\n",
        "* Children under the age of 18 years must be accompanied and supervised by an adult.\n",
        "* Ask for help when you are uncertain how to use equipment.\n",
        "* Operation of the 3D Printers is restricted. Please note the manual.\n",
        "* Abide by SAC, safety, and fire regulations and comply with the rules and regulations of the equipment, whether posted or otherwise imposed by SAC.\n",
        "\n",
        "### **1-3- Prepare**\n",
        "* Safety is your top priority when using the Makerspace. If you are not sure what to do, ask.\n",
        "* Be aware of locations of first aid, fire, and safety equipment.\n",
        "* Never use a tool unless you’ve been trained to use it safely.\n",
        "* Use a step stool to reach extension cords or tools which are out of reach. Do not climb on tables or chairs to reach for something.\n",
        "* Do not work when tired or in a hurry. \n",
        "* Do not cause a distraction, fool around, or startle anyone while either one of you is using a tool.\n",
        "*  Think through the entire job before starting. Prepare prints or drawings with all dimensions and specifications prior to submitting your job to a Makerspace Makerspace Manager or Assistant Manager. Makerspace Makerspace Manager or Assistant Manager are happy to assist you if you get stuck.\n",
        "\n",
        "### **1-4- Use Protective Gear & Dress Right**\n",
        "* Do not wear loose-fitting clothing around moving or rotating machinery.\n",
        "* Remove ties, jewelry, lanyards, etc., especially around moving or rotating machinery.\n",
        "* Tie back long hair.\n",
        "* Wear suitable gloves when handling hot objects or sharp-edged items.\n",
        "\n",
        "### **1-5- Use Tools Correctly**\n",
        "* Use tools how they are designed to be used.\n",
        "* Never use a broken tool. Report any broken tools or machinery to a Makerspace Technician immediately.\n",
        "* Do not remove tools from the Makerspace.\n",
        "* Never walk away from a tool that is still on. \n",
        "* Never tamper with a tool’s safety features. Operate machinery according to recommended procedures and with safety guards in place, as applicable.\n",
        "\n",
        "## **1-6- Food and Drinks**\n",
        "> Drink and food is **NOT** permitted.\n",
        "\n",
        "## **1-7- Clean Up**\n",
        "* Clean up after yourself; leave the area clean and tidy.\n",
        "* Clean and return all tools to where you got them.\n",
        "* Shut off and unplug machines when cleaning. \n",
        "* Never use a rag near moving machinery. \n",
        "* Use a brush, hook, or a special tool to remove chips, shavings, etc., from the work area. Never use your hands. \n",
        "* Keep fingers clear of the point of operation of machines by using special tools or devices, such as push drill, etc. \n",
        "* Keep the floor around machinery clean, dry, and free from trip hazards. \n",
        "* Clean up spills immediately and put a chair or cone over them if they are wet enough to cause someone to slip.\n",
        "\n",
        "## **1-8- First Aid Equipments**\n",
        "> There is a first aid equipment kit and eyewash on the wall of the room.<br>\n",
        "![alt text](https://github.com/mtofighi/MakerSpace/blob/master/Sources/Images/Available%20First%20Aid%20Kit_Page_1.jpg?raw=true \"First Aid Station\")\n",
        "![alt text](https://github.com/mtofighi/MakerSpace/blob/master/Sources/Images/Available%20First%20Aid%20Kit_Page_2.jpg?raw=true \"First Aid Station\")\n",
        "\n",
        "---\n"
      ]
    },
    {
      "cell_type": "markdown",
      "metadata": {
        "id": "THlU1TEsX_bu",
        "colab_type": "text"
      },
      "source": [
        "## **2- Training**\n",
        "\n",
        "> Before any member can utilize the space, there will be a requirement for them to undergo an open house session with either the Manager of the space or either of the Assistant Managers of the space. This training will include, but not be limited to: <br>\n",
        ">> a) The locations and proper usage of the Emergency Supplies (First Aid Kits and\n",
        "Eyewash Station) inside of the space <br>\n",
        "b) An overview of the procedural rules of the space (including occupancy limits for the space, cleaning requirements of the space, sign in procedures, guest policy, etc ... ) <br>\n",
        "c) Training on the usage of the various tools available inside of the space, particularly the soldering irons and 3D printer, and: <br>\n",
        "d) A practical test of said training in the form of a basic project (a working LED light switch for the soldering and printing an alphabet letter for the 3D printer)\n",
        "\n",
        "---"
      ]
    },
    {
      "cell_type": "markdown",
      "metadata": {
        "id": "XPiQ0hm8aNMb",
        "colab_type": "text"
      },
      "source": [
        "## **3- Ground Rules for the Makerspace**\n",
        "\n",
        "> The ground rules for the Makerspace shall be as follows. Violation of any of the rules of the space will lead to loss of usage privileges:\n",
        ">> a) The occupancy limit of the Makerspace at any given time shall be llmited to **_6_** persons. <br>\n",
        "b) No untrained members or guests are allowed into the Makerspace under any\n",
        "circumstances. <br>\n",
        "c) No food or drink is allowed int the Makerspace under any circumstances. <br>\n",
        "d) All users of the space must both sign into the space when they enter and sign out of the space when they leave. <br>\n",
        "e) Removal of any electrical components from the space (ie: LEDs, perfboard, switches, etc.) must be recorded by the manager or an assistant manager of the space. <br>\n",
        "f) Removal of any other items from the space, including any type of solder, is\n",
        "prohibited. <br>\n",
        "g) Any and all damages or emergencies must immediately be reported to both security and the Facility Manager/Assistants. <br>\n",
        "\n",
        "---"
      ]
    },
    {
      "cell_type": "markdown",
      "metadata": {
        "id": "_Sb8V6BlcO3c",
        "colab_type": "text"
      },
      "source": [
        "## **4- Project Storage**\n",
        "> Any projects being worked on by a member shall be allowed to be kept in the shortterm storage in the space for up to **_48_** hours without notifying a facility manager/assistant. Storage for up to ***30*** days for small projects will be available after notification of a manager/assistant. larger projects may be accommodated on a case by case basis, but the manager/assistant managers reserve the right to request removal of Projects which take up too much space on the grounds of safety for the members using the space.\n",
        "\n",
        "---"
      ]
    },
    {
      "cell_type": "markdown",
      "metadata": {
        "id": "gXcFs2bQc7QT",
        "colab_type": "text"
      },
      "source": [
        "## **5- Manager and Assistant Manager Responsibilities**\n",
        "\n",
        "For the purpose of operating the Makerspace, the duties of the manager are:\n",
        "> a) Update this manual on an as-needed basis (such as the introduction of new\n",
        "equipment, and other scenarios that may arise) <br>\n",
        "b) Ensure timing is scheduled each month for new training sessions for the space for members to use, and that adequate t iming is given for said members to sign up<br>\n",
        "c) Ensure that all receipts for purchases made for the makerspace are stored in the appropriate lockbox, and that these expenses are cat alogued on a per quarter basis for the purpose of SAC<br>\n",
        "d) Lead training sessions for the space when timing permits<br>\n",
        "e) Supervise the space whenever it is required and an assistant is unavailable\n",
        "Ensure the space is cleaned once every week, with increasing frequency in times of high traffic<br>\n",
        "f) Attend all relevant SAC meetings on the space<br>\n",
        "\n",
        "The duties of an assistant manager shall be:\n",
        "> a) Report all expenses for the space to the manager, and store the receipts in the lockbox inside of the Makerspace<br>\n",
        "b) Help supervise the space at the request of members using the space<br>\n",
        "c) Help the manager maintain cleanliness In the Makerspace<br>\n",
        "d) Help the manager with any reasonable requests regarding the promotion and\n",
        "upkeep of the space<br>\n",
        "\n",
        "---"
      ]
    },
    {
      "cell_type": "markdown",
      "metadata": {
        "id": "cyzrK4aYE5jN",
        "colab_type": "text"
      },
      "source": [
        "## **6- Tools and Equipment**\n",
        "> The Neill-Wycik Makerspace has a variety of low-tech and high-tech tools and equipment.\n",
        "\n",
        "| Row | Tool \t| Brand | Manual | Image |\n",
        "|-----|-------|-------|--------|--------|\n",
        "| 1 | **3D Printer**\t| [Flashforge Creator Pro](https://www.flashforge.com/consumer/detail/Creator%20Pro?id=4) | [Specificatins](https://github.com/mtofighi/MakerSpace/blob/master/Sources/Manuals/Creator%20Pro%20-%20flashforge.pdf) <br> [Manual](https://github.com/mtofighi/MakerSpace/blob/master/Sources/Manuals/Creator%20Pro%20User%20Guide-English%20for%20Print.pdf) <br><br> [![IMAGE ALT TEXT HERE](https://github.com/mtofighi/MakerSpace/blob/master/Sources/Images/video-clip-icon.png?raw=true)](https://www.youtube.com/watch?v=lPbMDegy4_4 ) <br><br> [![IMAGE ALT TEXT HERE](https://github.com/mtofighi/MakerSpace/blob/master/Sources/Images/video-clip-icon.png?raw=true)](https://www.youtube.com/watch?v=jZu4zTc8HJE ) <br><br> [![IMAGE ALT TEXT HERE](https://github.com/mtofighi/MakerSpace/blob/master/Sources/Images/video-clip-icon.png?raw=true)](https://www.youtube.com/watch?v=QfzSRN17ZVM)  |![alt text](https://github.com/mtofighi/MakerSpace/blob/master/Sources/Images/Creator%20Pro%20-%20flashforge0.jpg?raw=true) <br>\t![alt text](https://github.com/mtofighi/MakerSpace/blob/master/Sources/Images/Creator%20Pro%20-%20flashforge1.jpg?raw=true) <br>\t![alt text](https://github.com/mtofighi/MakerSpace/blob/master/Sources/Images/Creator%20Pro%20-%20flashforge2.jpg?raw=true)|\n",
        "| 2 | **Soldering iron/Station type**\t| [HAKKO FX-888D](https://www.hakko.com/english/products/hakko_fx888d.html) | [Manual](https://github.com/mtofighi/MakerSpace/blob/master/Sources/Manuals/HAKKO%20FX-888D.pdf) <br><br> [![IMAGE ALT TEXT HERE](https://github.com/mtofighi/MakerSpace/blob/master/Sources/Images/video-clip-icon.png?raw=true)](https://youtu.be/thzMKXS_zms) \t|![alt text](https://github.com/mtofighi/MakerSpace/blob/master/Sources/Images/HAKKO%20FX-888D.jpg?raw=true)|\n",
        "| 3 | **Soldering iron/Magnifier** \t| [Weller WES50](https://www.industrialelectronics.biz/weller/weller_wes50.htm) | [Manual](https://github.com/mtofighi/MakerSpace/blob/master/Sources/Manuals/Weller_solderingstationWES50.pdf) \t|![alt text](https://github.com/mtofighi/MakerSpace/blob/master/Sources/Images/Weller_solderingstationWES50.jpg?raw=true)|\n",
        "| 4 | **Articulating drill press** | [220-01 WorkStation™](https://www.dremel.com/en_US/products/-/show-product/tools/220-01-workstation) | [Manual](https://github.com/mtofighi/MakerSpace/blob/master/Sources/Manuals/Dremel%20WorkStation%20220%20-%20manual.pdf)   <br><br> [![IMAGE ALT TEXT HERE](https://github.com/mtofighi/MakerSpace/blob/master/Sources/Images/video-clip-icon.png?raw=true)](https://youtu.be/7w8U7zzFdJA)\t|![alt text](https://github.com/mtofighi/MakerSpace/blob/master/Sources/Images/Dremel%20WorkStation%20220.jpg?raw=true)|\n",
        "| 5 | **Starter Kit for Arduino** | [Starter Kit](https://www.elecrow.com/beginner-basic-kit-for-arduino-with-guide-book-p-609.html)  | [Manual](https://github.com/mtofighi/MakerSpace/blob/master/Sources/Manuals/Starter%20Kit%20for%20Arduino(user%20manual).pdf) \t|![alt text](https://github.com/mtofighi/MakerSpace/blob/master/Sources/Images/Starter%20Kit%20for%20Arduino0.jpg?raw=true) <br> ![alt text](https://github.com/mtofighi/MakerSpace/blob/master/Sources/Images/Starter%20Kit%20for%20Arduino1.jpg?raw=true) <br> ![alt text](https://github.com/mtofighi/MakerSpace/blob/master/Sources/Images/Starter%20Kit%20for%20Arduino2.jpg?raw=true)|\n",
        "| 6 | **Work Holding Tools** | [201  PV Jr](https://www.panavise.com/index.html?pageID=1&page=full&--eqskudatarq=1) |  [Manual](https://github.com/mtofighi/MakerSpace/blob/master/Sources/Manuals/Panavise%20Model%20201.pdf)  <br><br> [![IMAGE ALT TEXT HERE](https://github.com/mtofighi/MakerSpace/blob/master/Sources/Images/video-clip-icon.png?raw=true)](https://www.youtube.com/watch?v=AFxquO3ysk8) |![alt text](https://github.com/mtofighi/MakerSpace/blob/master/Sources/Images/Panavise%20Model%20201.jpg?raw=true)|\n",
        "| 7 | **Magnifier Workbench Lamp** | [PROKIT’S MA-1503A/I](https://totaleclipse4u.com/default/magnification-lighting/inpsection-lamps.html) | [Manual](https://github.com/mtofighi/MakerSpace/blob/master/Sources/Manuals/Panavise%20Model%20201.pdf)|![alt text](https://github.com/mtofighi/MakerSpace/blob/master/Sources/Images/MA-1503A.jpg?raw=true)|\n",
        "| 8 | **Cordless Hand Vacuum** | [Dirt Devil Quick Flip 123](https://www.dirtdevil.com/quick-flip-8v-cordless-hand-vacuum/BD30010.html?bvstate=pg:2/ct:r) | [Manual](https://github.com/mtofighi/MakerSpace/blob/master/Sources/Manuals/Dirt%20Devil%20Quick%20Flip%20123.pdf)|![alt text](https://github.com/mtofighi/MakerSpace/blob/master/Sources/Images/Dirt%20Devil%20Quick%20Flip%20123.jpg?raw=true)|\n",
        "| 9 | **Work Table** | [BEKANT IKEA ](https://www.ikea.com/ca/en/p/bekant-desk-white-s19006323/) | [Manual](https://github.com/mtofighi/MakerSpace/blob/master/Sources/Manuals/BEKANT%20IKEA%20WorkTable.pdf)|-----|<br>\n",
        "\n",
        "---\n",
        "\n"
      ]
    },
    {
      "cell_type": "markdown",
      "metadata": {
        "id": "-Gu0PK79eOYV",
        "colab_type": "text"
      },
      "source": [
        "## **6- Soldering and Drill Rules**\n",
        "\n",
        ">The followlng rules must be followed when using soldering equipment:\n",
        ">>a) Protedive eyewear and gloves must be worn at all times<br>\n",
        "b) The solderlng irons must be unplugged when not in use<br>\n",
        "c) If soldering iron is in use and need to be put down, it must be placed back into its holder<br>\n",
        "d) Cleaning sponge must be kept wet during use, and equipment should be cleaned\n",
        "before finishing<br>\n",
        "e) Any violation of these rules or horseplay with the equipment will result in\n",
        "Makerspace privileges being revoked<br>\n",
        "\n",
        "---\n"
      ]
    },
    {
      "cell_type": "markdown",
      "metadata": {
        "id": "7CFFVNIMfpZk",
        "colab_type": "text"
      },
      "source": [
        "## **7- 3D Printing rules**\n",
        "\n",
        ">3D printer are available make three-dimensional objects in filament using a design uploaded from a digital file. Prior to using the 3D printer you must complete a mandatory 3D Printing Orientation Quiz, A Code of Conduct and Safety Quiz. 3D printing services are offered in a non-commercial capacity.  Mass quantity printouts will be referred to a commercial company or etc. <br>\n",
        ">The following rules must be followed with respect to using the 3D printer.\n",
        ">>a) Before use, confirmation is needed that there is enough ABS or PLA to print the required part<br>\n",
        "b) All projects to be printed must receive approval before ***7 PM***<br>\n",
        "c) All usage of the 3D printer must be approved before printing is stared by a facility manager / assistant manager. Running the machine without such approval is prohibited<br>\n",
        "d) Any instance of smoke emitting from the machine must immediately be reported to both security and facility managemer <br>\n",
        "e) Makerspace 3D printer may be used only for lawful purposes and Neill-Wycik Makerspace reserves the right to refuse any print request. The printers cannot be used to create material that is:\n",
        "\n",
        ">>* Prohibited by provincial or federal law.\n",
        ">>* Unsafe, harmful, dangerous, or poses an immediate threat to the well-being of others.\n",
        ">>* In violation of the intellectual property rights of others. For example, reproducing material that is subject to copyright, patent, or trademark protection.\n",
        ">>* A weapon, in part or whole, or any object that can be mistaken for a weapon.\n",
        ">>* Too large for the printer.\n",
        ">>* Lewd, malicious, or otherwise unsuitable for creating a welcoming and inclusive public space.\n",
        "\n",
        "\n",
        ">#### **7-1 General**\n",
        ">**What is 3D printing?**<br>\n",
        ">>3D printing is a process of taking a digital 3D design and turning that into a physical object. This is done using a 3D printer which manufactures the physical object using plastic or other material. The Makerspace has a 3D printers (Flashforge Creator Pro) which use plastic filament.<br>\n",
        ">>There are two common types of plastic filaments used in 3D printing, ABS and PLA. Think of this as the printer “ink” that forms your object. Filaments come in a variety of colours. The 3D printers in Makerspace use PLA material derived from biodegradable resources such as corn starch; this material has less fumes.<br>\n",
        ">>Before a 3D model can be printed, it is sliced into layers. Each layer is then traced onto the build plate by the printer; once one layer is complete, the build plate is lowered and the next layer is added on top of the previous one.<br>\n",
        "\n",
        ">**Where do I start?**<br>\n",
        ">>If you are new to 3D printing and wish to learn the basics, start with Tinkercad. It has easy, interactive tutorials which teach the basics of 3D modeling.<br>\n",
        "\n",
        ">**How do I use the 3D printer?**\n",
        ">>You will be required to complete a one-time mandatory 3D Printing orientation and sign a Makerspace User Agreement. Once you have passed the training with 100% and completed the User Agreement you can submit your jobs to a Makerspace Manager or Assistant Manager (Email).You will be asked to complete a 3D Design Checklist and review your submission.<br>\n",
        "\n",
        ">**What can I print?** \n",
        ">>While the possibilities may seem endless, there are some limitations around printing. Some designs may be too large for our printer, or may not suitable for printing with PLA material.<br>\n",
        "The Makerspace equipment may be used only for lawful purposes. Equipment cannot be used to create above-mentioned material.\n",
        "\n",
        "\n",
        ">#### **7-2- Finding a Design**\n",
        "\n",
        ">>All objects printed from a 3D printer start off with a design created using Computer Aided Design (CAD) software. You can either find a design that is print-ready or you can design your own.\n",
        "\n",
        ">**Create your own design**\n",
        ">>If you are creating your own design, choose a modeling software based on whether or not your model is solid or mesh. Examples of CAD software suitable for 3D printing include: \n",
        "\n",
        ">* Onshape\n",
        ">* Tinkercad (good choice for beginners)\n",
        ">* Autodesk Fusion 360\n",
        ">* GitHub\n",
        ">* GrabCAD\n",
        ">* SolidWorks\n",
        "\n",
        ">**Find a design**\n",
        ">>There are many websites that offer free or inexpensive 3D design which can be downloaded for printing, including:\n",
        "\n",
        ">* Instructables \n",
        ">* MyMiniFactory \n",
        ">* Pinshape\n",
        ">* Thingiverse \n",
        "\n",
        ">**Check your design**<br>\n",
        ">Most 3D design programs will create an STL file. If your file is not .STL you can convert it using a free 3D design file converter.<br>\n",
        ">To minimize the risk of a failed print we recommend you run your design through a file-checking program to identify and repair mistakes prior to printing. These free programs will modify and repair .STL files:<br>\n",
        "\n",
        ">* Gcode Analyzer\n",
        ">* Meshlab\n",
        ">* Meshmixer\n",
        ">* Willit 3D print?<br>\n",
        "\n",
        ">**Prepare your model for 3D printing**<br>\n",
        ">You can save your file on the available flash memory in 3D printer and print it using the above-mentioned manual.\n",
        "\n",
        ">#### **7-3- Limitations**\n",
        "\n",
        ">* Maximum size: 227 mm long x 148 mm wide x 150 mm high.\n",
        ">* Maximum print time is 2 hours.\n",
        ">* We will not permit use of personal filament before checking it.  \n",
        ">* Personal jobs: limited to 100 grams per month.\n",
        "![alt text](https://github.com/mtofighi/MakerSpace/blob/master/Sources/Images/3D%20Printer%20Size.png?raw=true)\n",
        "\n",
        "---"
      ]
    }
  ]
}